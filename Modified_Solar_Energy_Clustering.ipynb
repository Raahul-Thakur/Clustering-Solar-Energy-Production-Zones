{
 "cells": [
  {
   "cell_type": "markdown",
   "id": "57f0cbfd-e6ef-4498-98d6-7c43f826e2e1",
   "metadata": {},
   "source": [
    "# Import The necessary libraries"
   ]
  },
  {
   "cell_type": "code",
   "execution_count": null,
   "id": "e0dfcc70-9d77-40d3-8106-f2436e73f464",
   "metadata": {},
   "outputs": [],
   "source": [
    "import pandas as pd\n",
    "import numpy as np\n",
    "from sklearn.impute import SimpleImputer\n",
    "from sklearn.preprocessing import StandardScaler, LabelEncoder, OneHotEncoder, MinMaxScaler\n",
    "from sklearn.cluster import KMeans, DBSCAN, AgglomerativeClustering\n",
    "from sklearn.metrics import silhouette_score, davies_bouldin_score, calinski_harabasz_score\n",
    "from sklearn.mixture import GaussianMixture\n",
    "from sklearn.neighbors import NearestNeighbors\n",
    "from sklearn.decomposition import PCA\n",
    "import matplotlib.pyplot as plt\n",
    "import seaborn as sns"
   ]
  },
  {
   "cell_type": "markdown",
   "id": "7f7878bd-164e-4fb8-b27f-5bb2dee6c418",
   "metadata": {},
   "source": [
    "# loading, preparing and cleaning the data"
   ]
  },
  {
   "cell_type": "code",
   "execution_count": null,
   "id": "3d7a4945-8099-426c-8db2-a611c03c9fc9",
   "metadata": {},
   "outputs": [],
   "source": [
    "#step 1: Loading the dataset\n",
    "df = pd.read_csv('Statewide Solar Projects.csv', low_memory=False)"
   ]
  },
  {
   "cell_type": "code",
   "execution_count": null,
   "id": "1536d900-2b79-411e-b06a-5893ea1dedf0",
   "metadata": {},
   "outputs": [],
   "source": [
    "df.head()"
   ]
  },
  {
   "cell_type": "code",
   "execution_count": null,
   "id": "85900250-89f5-4f7f-9e12-06aafa57cea3",
   "metadata": {},
   "outputs": [],
   "source": [
    "df.shape"
   ]
  },
  {
   "cell_type": "code",
   "execution_count": null,
   "id": "7cd6bde4-aab3-419a-8865-eef335c5d743",
   "metadata": {},
   "outputs": [],
   "source": [
    "df.info()"
   ]
  },
  {
   "cell_type": "code",
   "execution_count": null,
   "id": "d1516ea7-21a9-4d31-aaa5-525a4a0cda07",
   "metadata": {},
   "outputs": [],
   "source": [
    "df.describe()"
   ]
  },
  {
   "cell_type": "markdown",
   "id": "25c6bcf5-401e-4e34-a3ff-cba39eca0152",
   "metadata": {},
   "source": [
    "1. The average estimated PV system size is 24.5 kWdc, while the actual PV system size is 19.1 kWac, indicating efficiency losses between the two. \n",
    "\n",
    "2. The mean estimated annual energy production is around 28,768 kWh, though there is high variability, with a standard deviation of 342,204 kWh. \n",
    "\n",
    "3. Most projects are small, as indicated by the 50th percentile values for PV system size and energy production, but there are a few larger installations with maximum values of 43,470 kWdc and 51,026,820 kWh. \n",
    "\n",
    "4. The majority of the projects do not have energy storage systems."
   ]
  },
  {
   "cell_type": "code",
   "execution_count": null,
   "id": "2196fa9b-58d4-41a5-854d-9a0327b1580c",
   "metadata": {},
   "outputs": [],
   "source": [
    "columns_to_drop = ['Data Through Date', 'Project ID', 'Circuit ID', 'Developer', 'Energy Storage System Size (kWac)', 'Number of Projects']\n",
    "df = df.drop(columns=columns_to_drop)"
   ]
  },
  {
   "cell_type": "markdown",
   "id": "06d98c08-3748-4aa9-bcc6-152752db424e",
   "metadata": {},
   "source": [
    "Dropping these columns because they are not essential for our project, and kWac has a not missing values which as mentioned suggests that most of the projects dont have energy storage systems"
   ]
  },
  {
   "cell_type": "code",
   "execution_count": null,
   "id": "1282b3db-c390-4a43-a2ee-1405dda75cfe",
   "metadata": {},
   "outputs": [],
   "source": [
    "df.head()"
   ]
  },
  {
   "cell_type": "code",
   "execution_count": null,
   "id": "d0416e9c-b77b-4b37-a4ea-867221be6a33",
   "metadata": {},
   "outputs": [],
   "source": [
    "df.isnull().sum()"
   ]
  },
  {
   "cell_type": "code",
   "execution_count": null,
   "id": "ed118599-31a1-41e1-afe3-7ced9a7d4a21",
   "metadata": {},
   "outputs": [],
   "source": [
    "# Step 2: Impute missing values for 'City/Town' using the most frequent value within each 'County'\n",
    "# Create a function to fill missing City/Town values based on the most frequent City/Town in that County\n",
    "def fill_city_town(row, df):\n",
    "    if pd.isnull(row['City/Town']):\n",
    "        return df[df['County'] == row['County']]['City/Town'].mode()[0]\n",
    "    else:\n",
    "        return row['City/Town']"
   ]
  },
  {
   "cell_type": "code",
   "execution_count": null,
   "id": "4deb0219-207d-4460-acc5-5aa9478efa90",
   "metadata": {},
   "outputs": [],
   "source": [
    "df['City/Town'] = df.apply(lambda row: fill_city_town(row, df), axis=1)"
   ]
  },
  {
   "cell_type": "code",
   "execution_count": null,
   "id": "258757e7-f09f-4020-863b-76d429425f42",
   "metadata": {},
   "outputs": [],
   "source": [
    "# Step 3: Impute missing values for 'Zip' using the most frequent Zip code in each 'City/Town'\n",
    "def fill_zip(row, df):\n",
    "    if pd.isnull(row['Zip']):\n",
    "        return df[df['City/Town'] == row['City/Town']]['Zip'].mode()[0]\n",
    "    else:\n",
    "        return row['Zip']"
   ]
  },
  {
   "cell_type": "code",
   "execution_count": null,
   "id": "b89b6c3e-08db-4796-b676-056e951c1f27",
   "metadata": {},
   "outputs": [],
   "source": [
    "df['Zip'] = df.apply(lambda row: fill_zip(row, df), axis=1)"
   ]
  },
  {
   "cell_type": "code",
   "execution_count": null,
   "id": "6f6090a0-646a-4dc9-a56f-6351b0a85fcf",
   "metadata": {},
   "outputs": [],
   "source": [
    "df.isnull().sum()"
   ]
  },
  {
   "cell_type": "code",
   "execution_count": null,
   "id": "a1d9ed24-aa46-438f-a612-78cd5e2f1a10",
   "metadata": {},
   "outputs": [],
   "source": [
    "# Step 4: Impute missing values for 'Division' using the most frequent value within the same 'Zip'\n",
    "def fill_division(row, df):\n",
    "    if pd.isnull(row['Division']):\n",
    "        mode_value = df[df['Zip'] == row['Zip']]['Division'].mode()\n",
    "        if len(mode_value) > 0:\n",
    "            return mode_value[0]  # Use the most frequent Division\n",
    "        else:\n",
    "            return np.nan  # Return NaN if no mode is found\n",
    "    else:\n",
    "        return row['Division']"
   ]
  },
  {
   "cell_type": "code",
   "execution_count": null,
   "id": "c2be1387-53c3-47b1-a438-ecb650ae6775",
   "metadata": {},
   "outputs": [],
   "source": [
    "df['Division'] = df.apply(lambda row: fill_division(row, df), axis=1)"
   ]
  },
  {
   "cell_type": "code",
   "execution_count": null,
   "id": "c6070958-36b0-44c7-b36d-300b6059d1f9",
   "metadata": {},
   "outputs": [],
   "source": [
    "# Step 5: Impute missing values for 'Substation' using the most frequent value within the same 'Zip'\n",
    "def fill_substation(row, df):\n",
    "    if pd.isnull(row['Substation']):\n",
    "        mode_value = df[df['Zip'] == row['Zip']]['Substation'].mode()\n",
    "        if len(mode_value) > 0:\n",
    "            return mode_value[0]  # Use the most frequent Substation\n",
    "        else:\n",
    "            return np.nan  # Return NaN if no mode is found\n",
    "    else:\n",
    "        return row['Substation']"
   ]
  },
  {
   "cell_type": "code",
   "execution_count": null,
   "id": "05e2f8f6-6c0b-4018-ab8c-68ee8a0bd959",
   "metadata": {},
   "outputs": [],
   "source": [
    "df['Substation'] = df.apply(lambda row: fill_substation(row, df), axis=1)"
   ]
  },
  {
   "cell_type": "code",
   "execution_count": null,
   "id": "aa08091f-ba57-4112-bc6d-bdf64736aabe",
   "metadata": {},
   "outputs": [],
   "source": [
    "df.isnull().sum()"
   ]
  },
  {
   "cell_type": "code",
   "execution_count": null,
   "id": "51477a8f-7b86-48d1-85bd-2a3d3a7e4d27",
   "metadata": {},
   "outputs": [],
   "source": [
    "# Step 6: Impute missing values for 'Metering Method' using the most frequent value (mode)\n",
    "df['Metering Method'] = df['Metering Method'].fillna(df['Metering Method'].mode()[0])"
   ]
  },
  {
   "cell_type": "code",
   "execution_count": null,
   "id": "7f357658-9d0c-4bc6-ba71-381dd2ae3301",
   "metadata": {},
   "outputs": [],
   "source": [
    "df.isnull().sum()"
   ]
  },
  {
   "cell_type": "code",
   "execution_count": null,
   "id": "88b2a332-91c4-4e26-9ca2-905f1d416fea",
   "metadata": {},
   "outputs": [],
   "source": [
    "# Drop the 'Division' column since it has too many missing values\n",
    "df = df.drop(columns=['Division'])"
   ]
  },
  {
   "cell_type": "code",
   "execution_count": null,
   "id": "728f8431-7f69-45e9-9ef6-bfcaa44f324f",
   "metadata": {},
   "outputs": [],
   "source": [
    "# Drop rows where 'Substation' is null\n",
    "df = df[df['Substation'].notna()]"
   ]
  },
  {
   "cell_type": "code",
   "execution_count": null,
   "id": "39431ace-cf62-4ce7-9ce5-4a264fb6c3d3",
   "metadata": {},
   "outputs": [],
   "source": [
    "# Check the updated number of missing values\n",
    "print(df.isnull().sum())"
   ]
  },
  {
   "cell_type": "code",
   "execution_count": null,
   "id": "e9bb335f-6cc2-48ec-bd3c-5be16728382d",
   "metadata": {},
   "outputs": [],
   "source": [
    "df.shape"
   ]
  },
  {
   "cell_type": "code",
   "execution_count": null,
   "id": "87b9fc7d-a1e1-473d-94b3-e6a8270f34d8",
   "metadata": {},
   "outputs": [],
   "source": [
    "df_encoded = df.copy()"
   ]
  },
  {
   "cell_type": "markdown",
   "id": "72a9a0f9-438f-4a40-b9f4-ae5a0e53f387",
   "metadata": {},
   "source": [
    "making a copy of the dataframe because we need encoding and we cannot retrieve the information while geoplotting"
   ]
  },
  {
   "cell_type": "code",
   "execution_count": null,
   "id": "44bf9916-a422-445f-9c38-e243b3c450ae",
   "metadata": {},
   "outputs": [],
   "source": [
    "# Step 7: Encoding categorical variables\n",
    "city_encoder = LabelEncoder()\n",
    "county_encoder = LabelEncoder()\n",
    "substation_encoder = LabelEncoder()\n",
    "zip_encoder = LabelEncoder()"
   ]
  },
  {
   "cell_type": "code",
   "execution_count": null,
   "id": "57af0e24-9153-48c5-bdb9-18eb877462c3",
   "metadata": {},
   "outputs": [],
   "source": [
    "df_encoded['City/Town_encoded'] = city_encoder.fit_transform(df_encoded['City/Town'])\n",
    "df_encoded['County_encoded'] = county_encoder.fit_transform(df_encoded['County'])\n",
    "df_encoded['Substation_encoded'] = substation_encoder.fit_transform(df_encoded['Substation'])\n",
    "df_encoded['Zip_encoded'] = zip_encoder.fit_transform(df_encoded['Zip'].astype(str))"
   ]
  },
  {
   "cell_type": "code",
   "execution_count": null,
   "id": "5b4c8fc9-133a-4a95-96ec-d0e0851d7e5f",
   "metadata": {},
   "outputs": [],
   "source": [
    "# Use One-Hot Encoding for lower-cardinality categorical features\n",
    "df_encoded = pd.get_dummies(df_encoded, columns=['Utility', 'Metering Method'], drop_first=True)"
   ]
  },
  {
   "cell_type": "code",
   "execution_count": null,
   "id": "04145b51-8705-4d8c-8667-c33e9ff9b1bd",
   "metadata": {},
   "outputs": [],
   "source": [
    "# Step 8: Convert 'Interconnection Date' to numeric (years since connection)\n",
    "df_encoded['Interconnection Date'] = pd.to_datetime(df_encoded['Interconnection Date'])\n",
    "df_encoded['Interconnection Age'] = (pd.to_datetime('today') - df_encoded['Interconnection Date']).dt.days / 365.25\n",
    "df_encoded = df_encoded.drop(columns=['Interconnection Date'])  # Drop the original date column"
   ]
  },
  {
   "cell_type": "code",
   "execution_count": null,
   "id": "a3baadf8-beeb-449e-9d6a-c9011a60e2d6",
   "metadata": {},
   "outputs": [],
   "source": [
    "df_encoded = df_encoded.drop(columns=['Zip', 'City/Town', 'County', 'Substation'])"
   ]
  },
  {
   "cell_type": "code",
   "execution_count": null,
   "id": "9ad66ba2-3068-4bac-894b-35ae66e2c1b5",
   "metadata": {},
   "outputs": [],
   "source": [
    "df_encoded.head()"
   ]
  },
  {
   "cell_type": "code",
   "execution_count": null,
   "id": "b1ba9a06-13ae-4158-a846-cb2744425c9d",
   "metadata": {},
   "outputs": [],
   "source": [
    "df_encoded.shape"
   ]
  },
  {
   "cell_type": "code",
   "execution_count": null,
   "id": "5a9376fe-5841-40a5-b6dc-254ce26b6d94",
   "metadata": {},
   "outputs": [],
   "source": [
    "# Step 9: Scale numerical features\n",
    "scaler = MinMaxScaler()"
   ]
  },
  {
   "cell_type": "code",
   "execution_count": null,
   "id": "ad0e83f6-f5bc-464a-b6f8-a3ca14e198ed",
   "metadata": {},
   "outputs": [],
   "source": [
    "# Select numerical columns for scaling\n",
    "numerical_columns = ['Estimated PV System Size (kWdc)', 'PV System Size (kWac)', 'Estimated Annual PV Energy Production (kWh)', 'Interconnection Age']\n",
    "df_encoded[numerical_columns] = scaler.fit_transform(df_encoded[numerical_columns])"
   ]
  },
  {
   "cell_type": "markdown",
   "id": "9715b0bf-3a0a-4156-9b6e-d0288c4671a7",
   "metadata": {},
   "source": [
    "# Clustering Algorithms"
   ]
  },
  {
   "cell_type": "markdown",
   "id": "180ab44a-27b2-4d3f-9791-bb8e2b63c2ff",
   "metadata": {},
   "source": [
    "### 1. K-Means Clustering"
   ]
  },
  {
   "cell_type": "code",
   "execution_count": null,
   "id": "a1a928d0-0d3a-4178-9081-4d8c51aea862",
   "metadata": {},
   "outputs": [],
   "source": [
    "def evaluate_metrics(df_encoded, min_clust=2, max_clust=8, rand_state=42):\n",
    "    inertias = []\n",
    "    silhouette = []\n",
    "    for n_clust in range(min_clust, max_clust):\n",
    "        kmeans = KMeans(n_clusters=n_clust, random_state=rand_state)\n",
    "        y_label = kmeans.fit_predict(df_encoded)\n",
    "        inertias.append(kmeans.inertia_)\n",
    "        silhouette.append(silhouette_score(df_encoded, y_label))   \n",
    "    fig, ax = plt.subplots(1, 2, figsize=(15, 5))\n",
    "\n",
    "    ax[0].plot(range(min_clust, max_clust), inertias, '-x', linewidth=2)\n",
    "    ax[0].set_xlabel('No. of clusters')\n",
    "    ax[0].set_ylabel('Inertia')\n",
    "\n",
    "    ax[1].plot(range(min_clust, max_clust), silhouette, '-x', linewidth=2)\n",
    "    ax[1].set_xlabel('No. of clusters')\n",
    "    ax[1].set_ylabel('Silhouette Score')"
   ]
  },
  {
   "cell_type": "code",
   "execution_count": null,
   "id": "8290160f-d944-4b71-ac39-3e3fb4266b3c",
   "metadata": {},
   "outputs": [],
   "source": [
    "evaluate_metrics(df_encoded, min_clust=2, max_clust=8, rand_state=42)"
   ]
  },
  {
   "cell_type": "code",
   "execution_count": null,
   "id": "cfdb83de-c642-414b-bd09-81ec253a177c",
   "metadata": {},
   "outputs": [],
   "source": [
    "X = df_encoded.values\n",
    "\n",
    "for n in range(2, 8):\n",
    "    kmeans = KMeans(n_clusters=n, random_state=42)\n",
    "    cluster_labels = kmeans.fit_predict(X)\n",
    "    silhouette_avg = silhouette_score(X, cluster_labels)\n",
    "    print(f\"For n_clusters = {n}, the silhouette score is {silhouette_avg:.4f}\")"
   ]
  },
  {
   "cell_type": "code",
   "execution_count": null,
   "id": "3f41e189-31c9-4830-91df-37d81b1e871d",
   "metadata": {},
   "outputs": [],
   "source": [
    "silhouette_scores = [] \n",
    "\n",
    "for n_cluster in range(2, 8):\n",
    "    silhouette_scores.append( \n",
    "        silhouette_score(df_encoded, KMeans(n_clusters = n_cluster).fit_predict(df_encoded))) \n",
    "    \n",
    "k = [2, 3, 4, 5, 6,7] \n",
    "plt.bar(k, silhouette_scores) \n",
    "plt.xlabel('Number of clusters', fontsize = 10) \n",
    "plt.ylabel('Silhouette Score', fontsize = 10) \n",
    "plt.show()"
   ]
  },
  {
   "cell_type": "code",
   "execution_count": null,
   "id": "97072b94-3238-4eb9-bd97-431a70985715",
   "metadata": {},
   "outputs": [],
   "source": [
    "kmeans = KMeans(n_clusters=5, random_state=42)\n",
    "kmeans.fit_predict(df_encoded)\n",
    "labels = kmeans.labels_"
   ]
  },
  {
   "cell_type": "code",
   "execution_count": null,
   "id": "e381f4cb-0509-4f51-98ac-fad7ff0830e8",
   "metadata": {},
   "outputs": [],
   "source": [
    "cluster_centers = pd.DataFrame(data = kmeans.cluster_centers_, columns = [df_encoded.columns])\n",
    "cluster_centers"
   ]
  },
  {
   "cell_type": "code",
   "execution_count": null,
   "id": "3e8a2803-4933-4958-921f-01d95f263aff",
   "metadata": {},
   "outputs": [],
   "source": [
    "cluster_centers_scaled = cluster_centers[numerical_columns]\n",
    "cluster_centers_inverse = scaler.inverse_transform(cluster_centers_scaled)\n",
    "cluster_centers[numerical_columns] = cluster_centers_inverse\n",
    "cluster_centers"
   ]
  },
  {
   "cell_type": "code",
   "execution_count": null,
   "id": "64bc0f32-01dc-486a-b5d0-4cb7c1cd160d",
   "metadata": {},
   "outputs": [],
   "source": [
    "df_cluster_with_kmean = pd.concat([df_encoded, pd.DataFrame({'kmeans_cluster': labels})], axis = 1)\n",
    "df_cluster_with_kmean"
   ]
  },
  {
   "cell_type": "code",
   "execution_count": null,
   "id": "4c007e61-d53b-4ffb-a439-95f3c6874a0f",
   "metadata": {},
   "outputs": [],
   "source": [
    "df_cluster_with_kmean.shape"
   ]
  },
  {
   "cell_type": "code",
   "execution_count": null,
   "id": "9e04fd2a-f844-437e-a8cb-026956e624e0",
   "metadata": {},
   "outputs": [],
   "source": [
    "df_cluster_with_kmean.isnull().sum()"
   ]
  },
  {
   "cell_type": "code",
   "execution_count": null,
   "id": "0d12beaf-f4ca-41e6-8595-30e283174159",
   "metadata": {},
   "outputs": [],
   "source": [
    "ax = sns.countplot(x=df_cluster_with_kmean.kmeans_cluster)\n",
    "ax.bar_label(ax.containers[0], fontsize=12, color='black', fontweight='bold')\n",
    "plt.show()"
   ]
  },
  {
   "cell_type": "code",
   "execution_count": null,
   "id": "6ebf1c12-c21c-45f5-860d-4354b0079bac",
   "metadata": {},
   "outputs": [],
   "source": [
    "df_kmean = df_encoded.copy()\n",
    "\n",
    "pca = PCA(n_components = 2)\n",
    "principal_comp = pca.fit_transform(df_kmean)\n",
    "pca_df = pd.DataFrame(data = principal_comp, columns = ['pca1', 'pca2'])\n",
    "pca_df.head()"
   ]
  },
  {
   "cell_type": "code",
   "execution_count": null,
   "id": "035d4d48-b325-4388-9a2f-14110761f018",
   "metadata": {},
   "outputs": [],
   "source": [
    "pca_df = pd.DataFrame(data = principal_comp, columns = ['pca1', 'pca2'])\n",
    "\n",
    "pca_df = pd.concat([pca_df, pd.DataFrame({'kmeans_cluster':labels})], axis=1)\n",
    "pca_df.head()"
   ]
  },
  {
   "cell_type": "code",
   "execution_count": null,
   "id": "09dacac5-0d7b-491d-a43a-d4cebafa74dc",
   "metadata": {},
   "outputs": [],
   "source": [
    "plt.figure(figsize=(10,10))\n",
    "sns.scatterplot(x='pca1', y='pca2',hue = 'kmeans_cluster', data = pca_df, palette=['red','green','blue','yellow','orange'], alpha=0.75)\n",
    "plt.title('Projection of the dataset on the 2 PCA dimensions')\n",
    "plt.show()"
   ]
  },
  {
   "cell_type": "markdown",
   "id": "43ecae7a-ef90-4e7c-ba3d-12c3fb65184d",
   "metadata": {},
   "source": [
    "### 2. DBSCAN"
   ]
  },
  {
   "cell_type": "code",
   "execution_count": null,
   "id": "56503fe3-dc1a-4976-8f5e-a903d37d5ccd",
   "metadata": {},
   "outputs": [],
   "source": [
    "neigh = NearestNeighbors(n_neighbors=4)\n",
    "nbrs = neigh.fit(df_encoded)\n",
    "distances, indices = nbrs.kneighbors(df_encoded)\n",
    "distances = np.sort(distances, axis=0)\n",
    "distances = distances[:,1]\n",
    "plt.plot(distances)"
   ]
  },
  {
   "cell_type": "code",
   "execution_count": null,
   "id": "79081365-e06f-4c5e-99d0-69598d8ae5b4",
   "metadata": {},
   "outputs": [],
   "source": [
    "eps_values = np.arange(0.5, 1.2, 0.2)\n",
    "min_samples_values = range(2, 5)\n",
    "best_score = -1\n",
    "best_params = {'eps': None, 'min_samples': None}"
   ]
  },
  {
   "cell_type": "code",
   "execution_count": null,
   "id": "6a38aa40-2eec-4a7c-ab6f-409498f96458",
   "metadata": {},
   "outputs": [],
   "source": [
    "from joblib import Parallel, delayed\n",
    "\n",
    "def evaluate_dbscan(eps, min_samples, df_encoded):\n",
    "    try:\n",
    "        dbscan = DBSCAN(eps=eps, min_samples=min_samples)\n",
    "        labels = dbscan.fit_predict(df_encoded)\n",
    "        if len(set(labels)) > 1:  # Proceed only if more than one cluster\n",
    "            score = silhouette_score(df_encoded, labels)\n",
    "            return score, eps, min_samples\n",
    "    except Exception as e:\n",
    "        print(f\"Error with eps={eps} and min_samples={min_samples}: {e}\")\n",
    "    return -1, eps, min_samples  # Return -1 if there's an error or only 1 cluster\n",
    "\n",
    "# Use Parallel processing to search for the best parameters\n",
    "results = Parallel(n_jobs=10, timeout=3000)(delayed(evaluate_dbscan)(eps, min_samples, df_encoded)\n",
    "                                          for eps in eps_values\n",
    "                                          for min_samples in min_samples_values)"
   ]
  },
  {
   "cell_type": "code",
   "execution_count": null,
   "id": "57282694-effb-4c99-b71e-404fcdd2631c",
   "metadata": {},
   "outputs": [],
   "source": [
    "for score, eps, min_samples in results:\n",
    "    if score > best_score:\n",
    "        best_score = score\n",
    "        best_params['eps'] = eps\n",
    "        best_params['min_samples'] = min_samples\n",
    "\n",
    "# Output the best parameters and silhouette score\n",
    "print(f\"Best silhouette score: {best_score}\")\n",
    "print(f\"Best parameters: eps={best_params['eps']}, min_samples={best_params['min_samples']}\")\n"
   ]
  },
  {
   "cell_type": "code",
   "execution_count": null,
   "id": "273d2bb1-7608-44af-8e5f-7ef2bb38f481",
   "metadata": {},
   "outputs": [],
   "source": [
    "print(f\"Best Silhouette Score: {best_score}\")\n",
    "print(f\"Optimal Epsilon: {best_params['eps']}\")\n",
    "print(f\"Optimal Min Samples: {best_params['min_samples']}\")"
   ]
  },
  {
   "cell_type": "code",
   "execution_count": null,
   "id": "c9ae877f-5302-4b60-99b2-8d0dcbfed221",
   "metadata": {},
   "outputs": [],
   "source": [
    "dbscan = DBSCAN(eps=0.9, min_samples=2)\n",
    "dbscan.fit(df_encoded)"
   ]
  },
  {
   "cell_type": "code",
   "execution_count": null,
   "id": "aad2474e-2dc5-45f5-8202-97d539036bfd",
   "metadata": {},
   "outputs": [],
   "source": [
    "dbscan_labels = dbscan.labels_"
   ]
  },
  {
   "cell_type": "code",
   "execution_count": null,
   "id": "21ceb0bf-979f-4eb4-bc50-73b9ac0cf5b8",
   "metadata": {},
   "outputs": [],
   "source": [
    "n_clusters = len(set(dbscan_labels)) - (1 if -1 in dbscan_labels else 0)\n",
    "n_noise = list(dbscan_labels).count(-1)"
   ]
  },
  {
   "cell_type": "code",
   "execution_count": null,
   "id": "cc941c30-e836-494e-8db5-4cd8b9a65927",
   "metadata": {},
   "outputs": [],
   "source": [
    "print(f\"Estimated number of clusters: {n_clusters}\")\n",
    "print(f\"Estimated number of noise points: {n_noise}\")"
   ]
  },
  {
   "cell_type": "code",
   "execution_count": null,
   "id": "732d45bd-0c59-4b5b-a501-f6a7e01fb21b",
   "metadata": {},
   "outputs": [],
   "source": [
    "pca = PCA(n_components=2)\n",
    "df_reduced = pca.fit_transform(df_encoded)"
   ]
  },
  {
   "cell_type": "code",
   "execution_count": null,
   "id": "4337b035-f6ed-40b4-bd53-6cc4aa26e80d",
   "metadata": {},
   "outputs": [],
   "source": [
    "unique_labels = set(dbscan_labels)\n",
    "colors = [plt.cm.Spectral(each) for each in np.linspace(0, 1, len(unique_labels))]"
   ]
  },
  {
   "cell_type": "code",
   "execution_count": null,
   "id": "d94f24be-3c50-470d-be94-a352224ff0be",
   "metadata": {},
   "outputs": [],
   "source": [
    "plt.figure(figsize=(10, 7))\n",
    "for k, col in zip(unique_labels, colors):\n",
    "    if k == -1:\n",
    "        # Black used for noise\n",
    "        col = [0, 0, 0, 1]\n",
    "\n",
    "    class_member_mask = (dbscan_labels == k)\n",
    "\n",
    "    xy = df_reduced[class_member_mask]\n",
    "    plt.plot(xy[:, 0], xy[:, 1], 'o', markerfacecolor=tuple(col),\n",
    "             markeredgecolor='k', markersize=6)\n",
    "\n",
    "plt.title(f'Estimated number of clusters: {n_clusters}')\n",
    "plt.show()"
   ]
  },
  {
   "cell_type": "markdown",
   "id": "3d7ce9b2-c92b-46cc-b809-cd3b53e1b699",
   "metadata": {},
   "source": [
    "### 3. Gaussian Mixture Model"
   ]
  },
  {
   "cell_type": "code",
   "execution_count": null,
   "id": "727d93c1-66ba-4fdb-b4ea-c0462f39e16c",
   "metadata": {},
   "outputs": [],
   "source": [
    "score_gmm = []\n",
    "for k in range(2,8):\n",
    "    gmm = GaussianMixture(n_components=k, random_state=1 )\n",
    "    gmm.fit(df_encoded)\n",
    "    score = silhouette_score(df_encoded, gmm.predict(df_encoded), metric='euclidean',random_state=42)\n",
    "    score_gmm.append(score)\n",
    "plt.plot(range(2,8), score_gmm, marker = '^', c = 'b', ms = 9, mfc = 'r')\n",
    "plt.xticks(range(2,8))\n",
    "plt.xlabel(\"Number of Clusters\")\n",
    "plt.ylabel(\"silhouette coefficients\")\n",
    "plt.show() "
   ]
  },
  {
   "cell_type": "code",
   "execution_count": null,
   "id": "0986f802-b55f-4d74-a547-39ede130a698",
   "metadata": {},
   "outputs": [],
   "source": [
    "covariance_types = ['full', 'tied', 'diag', 'spherical']\n",
    "best_silhouette = -1\n",
    "best_covariance_type = None\n",
    "\n",
    "for cov_type in covariance_types:\n",
    "    gmm = GaussianMixture(n_components=3, covariance_type=cov_type, random_state=42)\n",
    "    gmm_labels = gmm.fit_predict(X)\n",
    "    silhouette_avg = silhouette_score(X, gmm_labels)\n",
    "    print(f\"For covariance_type = {cov_type}, the silhouette score is {silhouette_avg:.4f}\")\n",
    "    \n",
    "    if silhouette_avg > best_silhouette:\n",
    "        best_silhouette = silhouette_avg\n",
    "        best_covariance_type = cov_type\n",
    "\n",
    "print(f\"Best silhouette score: {best_silhouette:.4f} with covariance_type = {best_covariance_type}\")"
   ]
  },
  {
   "cell_type": "code",
   "execution_count": null,
   "id": "2d1c9557-46e7-4e71-a959-c799b95f34a7",
   "metadata": {},
   "outputs": [],
   "source": [
    "gmm = GaussianMixture(n_components=3, covariance_type='spherical', random_state=42)\n",
    "gmm_labels = gmm.fit_predict(df_encoded)"
   ]
  },
  {
   "cell_type": "code",
   "execution_count": null,
   "id": "5650e74b-c90f-4fde-9db0-d136a73b3e76",
   "metadata": {},
   "outputs": [],
   "source": [
    "cluster_means = pd.DataFrame(data = gmm.means_, columns = [df_encoded.columns])\n",
    "cluster_means"
   ]
  },
  {
   "cell_type": "code",
   "execution_count": null,
   "id": "0346d153-c4e8-4f8b-b68f-8bff76a79a9c",
   "metadata": {},
   "outputs": [],
   "source": [
    "cluster_means_scaled = cluster_means[numerical_columns]\n",
    "cluster_means_inverse = scaler.inverse_transform(cluster_means_scaled)\n",
    "cluster_means[numerical_columns] = cluster_means_inverse\n",
    "cluster_means"
   ]
  },
  {
   "cell_type": "code",
   "execution_count": null,
   "id": "57b87b6e-ad91-4fe9-befd-c841691b2c19",
   "metadata": {},
   "outputs": [],
   "source": [
    "df_cluster_with_gmm = pd.concat([df_encoded, pd.DataFrame({'gmm_cluster': gmm_labels})], axis = 1)\n",
    "df_cluster_with_gmm"
   ]
  },
  {
   "cell_type": "markdown",
   "id": "3d3ae3e3-6cc1-4489-ad6a-432f1eb09481",
   "metadata": {},
   "source": [
    "# Model Comparison"
   ]
  },
  {
   "cell_type": "code",
   "execution_count": null,
   "id": "232c170a-d204-4dfe-b8d5-00c76b7c0cbe",
   "metadata": {},
   "outputs": [],
   "source": [
    "kmeans_eval = KMeans(n_clusters=5, random_state=42).fit_predict(df_encoded)\n",
    "gmm_eval = GaussianMixture(n_components=3, covariance_type='spherical', random_state=40).fit_predict(df_encoded)"
   ]
  },
  {
   "cell_type": "code",
   "execution_count": null,
   "id": "bbfc78d9-3dec-417b-8a1b-6b16bfb46c23",
   "metadata": {},
   "outputs": [],
   "source": [
    "kmeans_silhouette = silhouette_score(df_encoded, kmeans_eval)\n",
    "gmm_silhouette = silhouette_score(df_encoded, gmm_eval)\n",
    "\n",
    "results_df = pd.DataFrame({\n",
    "    'Model': ['KMeans', 'Gaussian Mixture'],\n",
    "    'Number of Clusters': [5, 3],\n",
    "    'Silhouette Score': [kmeans_silhouette, gmm_silhouette]\n",
    "})\n"
   ]
  },
  {
   "cell_type": "code",
   "execution_count": null,
   "id": "1e3bc385-892d-4c95-9282-9e76c8b3fb7b",
   "metadata": {},
   "outputs": [],
   "source": [
    "results_df"
   ]
  },
  {
   "cell_type": "code",
   "execution_count": null,
   "id": "41c60483-51dc-4cc6-bd5b-c41efa4eadd8",
   "metadata": {},
   "outputs": [],
   "source": [
    "results_melted = pd.melt(results_df, id_vars=['Model'], value_vars=['Number of Clusters', 'Silhouette Score'])\n",
    "plt.figure(figsize=(14, 8))\n",
    "sns.barplot(x='Model', y='value', hue='variable', data=results_melted, palette='viridis')\n",
    "plt.title('Clustering Model Evaluation Metrics')\n",
    "plt.xlabel('Clustering Model')\n",
    "plt.ylabel('Metric Value')\n",
    "plt.show()"
   ]
  },
  {
   "cell_type": "markdown",
   "id": "011d07e7-283a-48f1-8308-71670ab9228f",
   "metadata": {},
   "source": [
    "# Visualization"
   ]
  },
  {
   "cell_type": "code",
   "execution_count": null,
   "id": "1497e6b7-b47a-4144-ac5c-c80200737d8b",
   "metadata": {},
   "outputs": [],
   "source": [
    "df = pd.concat([df, pd.DataFrame({'kmeans_cluster': labels})], axis = 1)"
   ]
  },
  {
   "cell_type": "code",
   "execution_count": null,
   "id": "3cc15cd3-34b2-422b-a062-2bde5938cd29",
   "metadata": {},
   "outputs": [],
   "source": [
    "df = df.drop(columns=['Interconnection Date'])"
   ]
  },
  {
   "cell_type": "code",
   "execution_count": null,
   "id": "5e512f44-1fae-41c5-b163-5ce406136d7a",
   "metadata": {},
   "outputs": [],
   "source": [
    "df = pd.concat([df, df_encoded['Interconnection Age']], axis=1)\n",
    "df"
   ]
  },
  {
   "cell_type": "code",
   "execution_count": null,
   "id": "4199a444-d7aa-427f-a82a-78c0533afe05",
   "metadata": {},
   "outputs": [],
   "source": [
    "df.info()"
   ]
  },
  {
   "cell_type": "code",
   "execution_count": null,
   "id": "dc12b120-1279-4ca9-939a-4df60e06b296",
   "metadata": {},
   "outputs": [],
   "source": [
    "df=df.dropna()"
   ]
  },
  {
   "cell_type": "code",
   "execution_count": null,
   "id": "a9fadb66-1aad-449f-befd-9bf8a980a4cb",
   "metadata": {},
   "outputs": [],
   "source": [
    "df.head()"
   ]
  },
  {
   "cell_type": "code",
   "execution_count": null,
   "id": "540f9fa7-99e5-464b-a588-b52a5d9a811f",
   "metadata": {},
   "outputs": [],
   "source": [
    "new_labels = kmeans.labels_\n",
    "\n",
    "cluster_summary = df.groupby('kmeans_cluster').agg({\n",
    "    'Estimated PV System Size (kWdc)': ['mean', 'median', 'max', 'min'],\n",
    "    'PV System Size (kWac)': ['mean', 'median', 'max', 'min'],\n",
    "    'Estimated Annual PV Energy Production (kWh)': ['mean', 'median', 'max', 'min'],\n",
    "    'Interconnection Age': ['mean', 'median', 'max', 'min'],\n",
    "    'City/Town': 'count',  # Count the number of projects in each city/town\n",
    "    'County': 'count',\n",
    "    'Zip': 'count'\n",
    "})\n",
    "\n",
    "# Print cluster summaries\n",
    "cluster_summary"
   ]
  },
  {
   "cell_type": "code",
   "execution_count": null,
   "id": "f3d00a17-d9ad-4e0f-a459-0a61068c9518",
   "metadata": {},
   "outputs": [],
   "source": [
    "zip_lat_lon = pd.read_csv('uszips.csv')"
   ]
  },
  {
   "cell_type": "code",
   "execution_count": null,
   "id": "a26d76dd-d25d-441d-bd18-cd95f9165f48",
   "metadata": {},
   "outputs": [],
   "source": [
    "zip_lat_lon.head()"
   ]
  },
  {
   "cell_type": "code",
   "execution_count": null,
   "id": "9d9482cf-4336-4eeb-b509-0de6d254c8a8",
   "metadata": {},
   "outputs": [],
   "source": [
    "df = pd.merge(df, zip_lat_lon[['zip', 'lat', 'lng']], left_on='Zip', right_on='zip', how='left')"
   ]
  },
  {
   "cell_type": "code",
   "execution_count": null,
   "id": "9fe0ea23-6f93-40bf-87f8-7c23718f7311",
   "metadata": {},
   "outputs": [],
   "source": [
    "df"
   ]
  },
  {
   "cell_type": "code",
   "execution_count": null,
   "id": "c884e641-ac6d-4fb6-a533-d0217af49d63",
   "metadata": {},
   "outputs": [],
   "source": [
    "import folium\n",
    "from folium.plugins import MarkerCluster\n",
    "import pandas as pd"
   ]
  },
  {
   "cell_type": "code",
   "execution_count": null,
   "id": "b4510f0a-d2cb-441d-b163-fc2e0e01387a",
   "metadata": {},
   "outputs": [],
   "source": [
    "cluster_colors = {\n",
    "    0: 'blue',\n",
    "    1: 'green',\n",
    "    2: 'red',\n",
    "    3: 'purple',\n",
    "    4: 'orange'\n",
    "}"
   ]
  },
  {
   "cell_type": "code",
   "execution_count": null,
   "id": "4dc020cf-2a3b-451b-a399-a016b2b9255e",
   "metadata": {},
   "outputs": [],
   "source": [
    "df_clean = df.dropna(subset=['lat', 'lng'])"
   ]
  },
  {
   "cell_type": "code",
   "execution_count": null,
   "id": "c2bf50f0-6166-4eea-a794-65e3cff3bedf",
   "metadata": {},
   "outputs": [],
   "source": [
    "# Initialize the folium map centered around New York State\n",
    "m = folium.Map(location=[40.7128, -74.0060], zoom_start=10)  # New York City coordinates"
   ]
  },
  {
   "cell_type": "code",
   "execution_count": null,
   "id": "53d42f25-5ccc-429b-8926-37447dab8d14",
   "metadata": {},
   "outputs": [],
   "source": [
    "# Create a marker cluster for each cluster\n",
    "for cluster in df_clean['kmeans_cluster'].unique():\n",
    "    # Create a marker cluster group for each kmeans cluster\n",
    "    marker_cluster = MarkerCluster(name=f'Cluster {int(cluster)}').add_to(m)\n",
    "    \n",
    "    # Add points to the cluster group based on the cluster\n",
    "    cluster_data = df_clean[df_clean['kmeans_cluster'] == cluster]\n",
    "    for i, row in cluster_data.iterrows():\n",
    "        # Use the color map to assign a color based on the cluster number\n",
    "        marker_color = cluster_colors.get(row['kmeans_cluster'], 'blue')  # Default to blue if not found\n",
    "\n",
    "        folium.Marker(\n",
    "            location=[row['lat'], row['lng']],\n",
    "            popup=f\"{row['City/Town']}, {row['County']}\\nPV Size: {row['PV System Size (kWac)']} kWac\\nEnergy Production: {row['Estimated Annual PV Energy Production (kWh)']} kWh\",\n",
    "            icon=folium.Icon(color=marker_color)\n",
    "        ).add_to(marker_cluster)\n"
   ]
  },
  {
   "cell_type": "code",
   "execution_count": null,
   "id": "20f689d4-757a-46a8-b1a4-4d8caf9c68c6",
   "metadata": {},
   "outputs": [],
   "source": [
    "# Add layer control to toggle clusters\n",
    "folium.LayerControl().add_to(m)"
   ]
  },
  {
   "cell_type": "code",
   "execution_count": null,
   "id": "469e8c5d-c168-499c-9423-46593300cd81",
   "metadata": {},
   "outputs": [],
   "source": [
    "# Save the map as an HTML file\n",
    "m.save(\"solar_plants_clusters.html\")"
   ]
  },
  {
   "cell_type": "code",
   "execution_count": null,
   "id": "65c143bd-8109-4746-8033-dbd6d8becd53",
   "metadata": {},
   "outputs": [],
   "source": [
    "# To display the map within a notebook (if needed)\n",
    "m"
   ]
  },
  {
   "cell_type": "code",
   "execution_count": null,
   "id": "713c854e-bedd-4538-b6bd-7fa2a9202af3",
   "metadata": {},
   "outputs": [],
   "source": [
    "import geopandas as gpd\n",
    "from shapely.geometry import Point\n",
    "\n",
    "# Load the full US states GeoJSON\n",
    "gdf = gpd.read_file('us-states.json')\n",
    "\n",
    "# Filter for New York state\n",
    "ny_state_gdf = gdf[gdf['name'] == 'New York']\n",
    "\n",
    "# Save as GeoJSON\n",
    "ny_state_gdf.to_file('ny_state.geojson', driver='GeoJSON')\n",
    "\n",
    "# Read the newly saved New York State GeoJSON file\n",
    "ny_state_geojson = 'ny_state.geojson'\n",
    "ny_state_gdf = gpd.read_file(ny_state_geojson)"
   ]
  },
  {
   "cell_type": "code",
   "execution_count": null,
   "id": "fdcdb15b-5b5e-47f2-b784-fd250c0229f3",
   "metadata": {},
   "outputs": [],
   "source": [
    "# Generate random points within the state's boundary\n",
    "minx, miny, maxx, maxy = ny_state_gdf.total_bounds  # Get bounding box of NY State\n",
    "\n",
    "# Number of random points to generate\n",
    "num_points = 5000\n",
    "points = []\n",
    "\n",
    "# Generate points until we have enough within the state boundary\n",
    "while len(points) < num_points:\n",
    "    # Generate random latitude and longitude within the bounding box\n",
    "    lon = np.random.uniform(minx, maxx)\n",
    "    lat = np.random.uniform(miny, maxy)\n",
    "    point = Point(lon, lat)\n",
    "\n",
    "    # Check if the point is within the state boundary\n",
    "    if ny_state_gdf.contains(point).values[0]:\n",
    "        points.append([lon, lat])\n",
    "\n",
    "# Convert the points to a NumPy array\n",
    "points = np.array(points)\n",
    "\n",
    "# Apply KMeans clustering to the points\n",
    "kmeans = KMeans(n_clusters=5, random_state=42)\n",
    "kmeans.fit(points)\n",
    "labels = kmeans.labels_\n",
    "\n",
    "# Add the clusters back into a GeoDataFrame\n",
    "clustered_points_gdf = gpd.GeoDataFrame(geometry=[Point(lon, lat) for lon, lat in points])\n",
    "clustered_points_gdf['cluster'] = labels\n",
    "\n",
    "# Plot the clusters (Optional: for visualization)\n",
    "plt.scatter(points[:, 0], points[:, 1], c=labels, cmap='tab10')\n",
    "plt.show()\n",
    "\n",
    "# Create a Folium map centered on New York State\n",
    "m = folium.Map(location=[42.9, -75.5], zoom_start=7)  # Rough center of New York State\n",
    "\n",
    "# Define the cluster colors\n",
    "cluster_colors = {\n",
    "    0: 'blue',\n",
    "    1: 'green',\n",
    "    2: 'red',\n",
    "    3: 'purple',\n",
    "    4: 'orange'\n",
    "}\n",
    "\n",
    "# Plot each cluster's points on the Folium map\n",
    "for i in range(5):\n",
    "    cluster_data = clustered_points_gdf[clustered_points_gdf['cluster'] == i]\n",
    "    for point in cluster_data['geometry']:\n",
    "        folium.CircleMarker(\n",
    "            location=[point.y, point.x],  # Folium uses (lat, lon)\n",
    "            radius=2,\n",
    "            color=cluster_colors[i],\n",
    "            fill=True,\n",
    "            fill_color=cluster_colors[i],\n",
    "            fill_opacity=0.6\n",
    "        ).add_to(m)\n",
    "\n",
    "# Optionally add the New York state boundary to the map\n",
    "folium.GeoJson(ny_state_geojson, name=\"New York State Boundary\").add_to(m)\n",
    "\n",
    "# Add layer control to toggle clusters\n",
    "folium.LayerControl().add_to(m)\n",
    "\n",
    "# Save the map as an HTML file\n",
    "m.save(\"ny_state_clusters.html\")\n",
    "\n",
    "# To display the map in a notebook (if applicable)\n",
    "m"
   ]
  },
  {
   "cell_type": "code",
   "execution_count": null,
   "id": "70643bc7-100d-41f6-8e89-b42764618bd8",
   "metadata": {},
   "outputs": [],
   "source": [
    "plt.figure(figsize=(10, 6))\n",
    "df.groupby('kmeans_cluster')['Estimated Annual PV Energy Production (kWh)'].mean().plot(kind='bar')\n",
    "plt.title('Average Annual PV Energy Production by Cluster')\n",
    "plt.ylabel('Average Energy Production (kWh)')\n",
    "plt.show()"
   ]
  },
  {
   "cell_type": "code",
   "execution_count": null,
   "id": "9d37a5d7-f00b-4506-85d6-941813f28d2a",
   "metadata": {},
   "outputs": [],
   "source": [
    "palette = sns.color_palette(\"hls\", 5)"
   ]
  },
  {
   "cell_type": "code",
   "execution_count": null,
   "id": "1f1bc095-447c-4d6d-92b8-07d49553e1c8",
   "metadata": {},
   "outputs": [],
   "source": [
    "# First plot for 'Estimated PV System Size (kWdc)'\n",
    "plt.figure(figsize=(6, 4))\n",
    "sns.scatterplot(data=df, \n",
    "                x='Estimated PV System Size (kWdc)', \n",
    "                y='kmeans_cluster', \n",
    "                hue='kmeans_cluster', \n",
    "                palette=palette, \n",
    "                markers=[\"o\", \"s\", \"D\", \"v\", \"^\"])\n",
    "plt.title('Estimated PV System Size (kWdc) vs Clusters')\n",
    "plt.show()"
   ]
  },
  {
   "cell_type": "code",
   "execution_count": null,
   "id": "70a6450a-7156-499e-a86f-451c06582db9",
   "metadata": {},
   "outputs": [],
   "source": [
    "# Second plot for 'PV System Size (kWac)'\n",
    "plt.figure(figsize=(6, 4))\n",
    "sns.scatterplot(data=df, \n",
    "                x='PV System Size (kWac)', \n",
    "                y='kmeans_cluster', \n",
    "                hue='kmeans_cluster', \n",
    "                palette=palette, \n",
    "                markers=[\"o\", \"s\", \"D\", \"v\", \"^\"])\n",
    "plt.title('PV System Size (kWac) vs Clusters')\n",
    "plt.show()"
   ]
  },
  {
   "cell_type": "code",
   "execution_count": null,
   "id": "1b626b70-6c44-455f-9e7e-d5908cadc395",
   "metadata": {},
   "outputs": [],
   "source": [
    "# Third plot for 'Estimated Annual PV Energy Production (kWh)'\n",
    "plt.figure(figsize=(6, 4))\n",
    "sns.scatterplot(data=df, \n",
    "                x='Estimated Annual PV Energy Production (kWh)', \n",
    "                y='kmeans_cluster', \n",
    "                hue='kmeans_cluster', \n",
    "                palette=palette, \n",
    "                markers=[\"o\", \"s\", \"D\", \"v\", \"^\"])\n",
    "plt.title('Estimated Annual PV Energy Production (kWh) vs Clusters')\n",
    "plt.show()"
   ]
  },
  {
   "cell_type": "markdown",
   "id": "55b2cf25-dda4-4031-aef6-bddacf081c65",
   "metadata": {},
   "source": [
    "**Cluster 0 (Red):**\n",
    "\n",
    "*Profile:*\n",
    "Cluster 0 contains solar projects with generally smaller values across most features compared to other clusters. These projects have lower PV system sizes (both kWdc and kWac) and relatively low energy production levels.\n",
    "\n",
    "*Behavior:*\n",
    "\n",
    "`PV System Size (kWdc and kWac):` Projects in this cluster typically have small systems, ranging up to around 4,000 kW for both PV System Size (kWac) and \n",
    "Estimated PV System Size (kWdc). Most of the projects are on the smaller side, with a significant concentration below 2,000 kW.\n",
    "\n",
    "`Estimated Annual PV Energy Production (kWh):` This cluster’s energy production is similarly low, with most systems producing less than 2 million kWh annually, indicating these projects are likely small residential or low-capacity commercial solar installations.\n",
    "\n",
    "*Possible Characteristics:*\n",
    "These projects are likely smaller, perhaps residential or small-scale commercial solar installations.\n",
    "Given the lower PV system sizes and energy production, these projects might be in regions with lower energy demand or funding for large-scale installations.\n",
    "\n",
    "**Cluster 1 (Green):**\n",
    "\n",
    "*Profile:*\n",
    "Cluster 1 features moderate-sized projects in terms of PV system size and energy production. These projects have higher system capacities and produce more energy than those in Cluster 0, but they still remain mid-range compared to other clusters.\n",
    "\n",
    "*Behavior:*\n",
    "\n",
    "`PV System Size (kWdc and kWac):` The solar systems in this cluster generally range from 1,000 kW to 4,000 kW, indicating mid-sized projects.\n",
    "\n",
    "`Estimated Annual PV Energy Production (kWh):` Energy production values for this cluster fall between approximately 2 million and 4 million kWh. This suggests these projects are larger than residential systems but still smaller than the largest utility-scale projects.\n",
    "\n",
    "*Possible Characteristics:*\n",
    "These are likely small-to-medium commercial installations or community solar projects that produce enough energy to serve small towns or industrial areas.\n",
    "This group might include organizations or small businesses investing in solar energy to reduce electricity costs and achieve moderate energy independence.\n",
    "\n",
    "**Cluster 2 (Blue):**\n",
    "\n",
    "*Profile:*\n",
    "Cluster 2 stands out as having larger PV systems and higher energy production values than Clusters 0 and 1. This cluster includes more substantial projects with system sizes between moderate and large-scale installations.\n",
    "\n",
    "*Behavior:*\n",
    "\n",
    "`PV System Size (kWdc and kWac):` Systems in Cluster 2 have capacities between 3,000 and 5,000 kW, indicating significant solar installations that can supply substantial energy.\n",
    "\n",
    "`Estimated Annual PV Energy Production (kWh):` Energy production for this cluster ranges widely, with most systems producing around 4 to 6 million kWh annually. These projects appear to be high-output solar installations.\n",
    "\n",
    "*Possible Characteristics:*\n",
    "These are likely larger commercial or small utility-scale projects designed to serve industrial areas or larger communities.\n",
    "This cluster might represent projects that are critical to regional energy production but aren't the largest installations in the state.\n",
    "\n",
    "**Cluster 3 (Purple):**\n",
    "\n",
    "*Profile:*\n",
    "Cluster 3 consists of projects with the highest system sizes and energy production levels. These projects represent the largest solar installations in the dataset, with significant PV capacities and energy outputs.\n",
    "\n",
    "*Behavior:*\n",
    "\n",
    "`PV System Size (kWdc and kWac):` This cluster contains systems that reach up to 10,000 kW (or 10 MW), reflecting large solar farms or utility-scale projects.\n",
    "\n",
    "`Estimated Annual PV Energy Production (kWh):` These projects have the highest energy production values, with output often exceeding 10 million kWh annually. Some systems approach 15 million kWh in production, marking them as the largest producers in the state.\n",
    "\n",
    "*Possible Characteristics:*\n",
    "These are utility-scale solar farms, designed to generate vast amounts of electricity for the grid, serving large urban centers or powering significant portions of the state's energy demand.\n",
    "Projects in this cluster are likely to be highly funded and may represent government or corporate-backed initiatives to generate large-scale renewable energy.\n",
    "\n",
    "**Cluster 4 (Orange):**\n",
    "\n",
    "*Profile:*\n",
    "Cluster 4 includes mid-to-high capacity projects, falling between Cluster 2 and Cluster 3 in terms of system size and energy production. These projects are larger than average but not as large as the very largest installations.\n",
    "\n",
    "*Behavior:*\n",
    "\n",
    "`PV System Size (kWdc and kWac):` Projects in this cluster are generally between 3,000 and 8,000 kW in size, suggesting substantial but not the largest projects.\n",
    "\n",
    "`Estimated Annual PV Energy Production (kWh):` Production levels for this cluster range between 4 to 8 million kWh, indicating strong energy output, though not at the level of utility-scale farms.\n",
    "\n",
    "*Possible Characteristics:*\n",
    "This cluster may represent large commercial or industrial solar projects, as well as some utility-scale solar installations.\n",
    "These projects likely play an important role in local energy supply but do not reach the scale or output of the largest solar farms found in Cluster 3.\n"
   ]
  },
  {
   "cell_type": "code",
   "execution_count": null,
   "id": "591ac78c-d70a-4f3c-9cb8-d9605219eb59",
   "metadata": {},
   "outputs": [],
   "source": []
  },
  {
   "cell_type": "code",
   "execution_count": null,
   "id": "66061499-02b6-4e14-afe8-44beaf4ae707",
   "metadata": {},
   "outputs": [],
   "source": []
  },
  {
   "cell_type": "code",
   "execution_count": null,
   "id": "458d0108-2a27-4f5c-bfc3-6fdb9e17f61a",
   "metadata": {},
   "outputs": [],
   "source": []
  },
  {
   "cell_type": "code",
   "execution_count": null,
   "id": "6d3a9c33-99de-4f0e-abf7-28f17da2f71d",
   "metadata": {},
   "outputs": [],
   "source": []
  }
 ],
 "metadata": {
  "kernelspec": {
   "display_name": "Python 3 (ipykernel)",
   "language": "python",
   "name": "python3"
  },
  "language_info": {
   "codemirror_mode": {
    "name": "ipython",
    "version": 3
   },
   "file_extension": ".py",
   "mimetype": "text/x-python",
   "name": "python",
   "nbconvert_exporter": "python",
   "pygments_lexer": "ipython3",
   "version": "3.12.4"
  }
 },
 "nbformat": 4,
 "nbformat_minor": 5
}
